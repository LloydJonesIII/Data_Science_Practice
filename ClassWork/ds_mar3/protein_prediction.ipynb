{
 "cells": [
  {
   "cell_type": "code",
   "execution_count": 106,
   "metadata": {},
   "outputs": [],
   "source": [
    "import pandas as pd \n",
    "import numpy as np\n",
    "from sklearn import datasets\n",
    "from sklearn.model_selection import train_test_split\n",
    "import xgboost as xgb\n",
    "from sklearn.metrics import precision_score\n",
    "import tensorflow as tf"
   ]
  },
  {
   "cell_type": "code",
   "execution_count": 107,
   "metadata": {},
   "outputs": [
    {
     "data": {
      "text/plain": [
       "(10188, 1280)"
      ]
     },
     "execution_count": 107,
     "metadata": {},
     "output_type": "execute_result"
    }
   ],
   "source": [
    "# Loading in the Data & splitting it into variables \n",
    "data = np.load('disprot_esm_embed_10188.npz')\n",
    "# feature data\n",
    "x_data = data['X']\n",
    "# ground truth \n",
    "y_data = data['y']\n",
    "x_data.shape"
   ]
  },
  {
   "cell_type": "code",
   "execution_count": null,
   "metadata": {},
   "outputs": [],
   "source": [
    "# splitting the data into training and testing data \n",
    "x_train, x_test, y_train, y_test = train_test_split(\n",
    "                                   x_data, y_data, test_size = 0.20, \n",
    "                                   random_state = 42)"
   ]
  },
  {
   "cell_type": "markdown",
   "metadata": {},
   "source": [
    "# Failed initial Iteration \n",
    "```\n",
    "ogModel = tf.keras.Sequential() \n",
    "ogModel.add(tf.keras.layers.Dense(units=25, input_shape=(1280,), activation='relu'))\n",
    "```\n",
    "* failure point over compression of features \n",
    "    * makes the model inconsistent as depending on how it compresses 1280 features into 25 features it could have a model loss of 4.0 or 0.6\n",
    "```\n",
    "ogModel.add(tf.keras.layers.Dense(units=15, activation='sigmoid'))\n",
    "ogModel.add(tf.keras.layers.Dense(units=15, activation='relu'))\n",
    "ogModel.add(tf.keras.layers.Dense(units=1, activation='relu'))\n",
    "```\n",
    "* short comming of the model with the over compression at the first step having only 4 layers isn't enough to accurately capture the realtionships for prediction "
   ]
  },
  {
   "cell_type": "code",
   "execution_count": 195,
   "metadata": {},
   "outputs": [],
   "source": [
    "# initial number of features: 1280\n",
    "myModel = tf.keras.Sequential()\n",
    "# 3/4 compression \n",
    "myModel.add(tf.keras.layers.Dense(units = 640, activation = 'relu'))\n",
    "myModel.add(tf.keras.layers.Dense(units = 480, activation = 'relu'))\n",
    "myModel.add(tf.keras.layers.Dense(units = 360, activation = 'relu'))\n",
    "myModel.add(tf.keras.layers.Dense(units = 270, activation = 'sigmoid'))\n",
    "# 2/3 compression\n",
    "myModel.add(tf.keras.layers.Dense(units = 180, activation = 'relu'))\n",
    "# 1/3 compression\n",
    "myModel.add(tf.keras.layers.Dense(units = 60, activation = 'relu'))\n",
    "myModel.add(tf.keras.layers.Dense(units = 20, activation = 'sigmoid'))\n",
    "# 1/4 compression\n",
    "myModel.add(tf.keras.layers.Dense(units = 5, activation = 'relu'))\n",
    "# Output layer \n",
    "myModel.add(tf.keras.layers.Dense(units = 1, activation = 'sigmoid'))"
   ]
  },
  {
   "cell_type": "code",
   "execution_count": 196,
   "metadata": {},
   "outputs": [],
   "source": [
    "myModel.compile(loss='binary_crossentropy')"
   ]
  },
  {
   "cell_type": "code",
   "execution_count": null,
   "metadata": {},
   "outputs": [
    {
     "name": "stdout",
     "output_type": "stream",
     "text": [
      "\u001b[1m255/255\u001b[0m \u001b[32m━━━━━━━━━━━━━━━━━━━━\u001b[0m\u001b[37m\u001b[0m \u001b[1m2s\u001b[0m 5ms/step - loss: 0.5326\n"
     ]
    },
    {
     "data": {
      "text/plain": [
       "<keras.src.callbacks.history.History at 0x168a47d70>"
      ]
     },
     "execution_count": 197,
     "metadata": {},
     "output_type": "execute_result"
    }
   ],
   "source": [
    "myModel.fit(x_train, y_train)"
   ]
  },
  {
   "cell_type": "code",
   "execution_count": 198,
   "metadata": {},
   "outputs": [
    {
     "name": "stdout",
     "output_type": "stream",
     "text": [
      "\u001b[1m64/64\u001b[0m \u001b[32m━━━━━━━━━━━━━━━━━━━━\u001b[0m\u001b[37m\u001b[0m \u001b[1m0s\u001b[0m 2ms/step\n",
      "[[0.08940548]\n",
      " [0.834759  ]\n",
      " [0.87911105]\n",
      " ...\n",
      " [0.08608283]\n",
      " [0.08816461]\n",
      " [0.8248428 ]]\n"
     ]
    }
   ],
   "source": [
    "predictionRaw = myModel.predict(x_test) \n",
    "print(predictionRaw)\n",
    "predictionProbability = predictionRaw.flatten()\n",
    "prediction = predictionProbability.round()"
   ]
  },
  {
   "cell_type": "code",
   "execution_count": 199,
   "metadata": {},
   "outputs": [],
   "source": [
    "test_y = pd.DataFrame(y_test)"
   ]
  },
  {
   "cell_type": "code",
   "execution_count": 200,
   "metadata": {},
   "outputs": [],
   "source": [
    "performanceDataFrame = pd.DataFrame(\n",
    "                       data = {\n",
    "                               'Prediction':prediction,\n",
    "                               'Prediction_Probability':predictionProbability,\n",
    "                               'Ground_Truth':test_y[0]\n",
    "                               })\n",
    "\n",
    "performanceDataFrame['90_Probability'] = (performanceDataFrame['Prediction_Probability'] >= 0.90).astype(int)\n",
    "performanceDataFrame['10_Probability'] = (performanceDataFrame['Prediction_Probability'] >= 0.10).astype(int)"
   ]
  },
  {
   "cell_type": "code",
   "execution_count": 201,
   "metadata": {},
   "outputs": [
    {
     "data": {
      "text/html": [
       "<div>\n",
       "<style scoped>\n",
       "    .dataframe tbody tr th:only-of-type {\n",
       "        vertical-align: middle;\n",
       "    }\n",
       "\n",
       "    .dataframe tbody tr th {\n",
       "        vertical-align: top;\n",
       "    }\n",
       "\n",
       "    .dataframe thead th {\n",
       "        text-align: right;\n",
       "    }\n",
       "</style>\n",
       "<table border=\"1\" class=\"dataframe\">\n",
       "  <thead>\n",
       "    <tr style=\"text-align: right;\">\n",
       "      <th></th>\n",
       "      <th>Prediction</th>\n",
       "      <th>Prediction_Probability</th>\n",
       "      <th>Ground_Truth</th>\n",
       "      <th>90_Probability</th>\n",
       "      <th>10_Probability</th>\n",
       "    </tr>\n",
       "  </thead>\n",
       "  <tbody>\n",
       "    <tr>\n",
       "      <th>0</th>\n",
       "      <td>0.0</td>\n",
       "      <td>0.089405</td>\n",
       "      <td>0.0</td>\n",
       "      <td>0</td>\n",
       "      <td>0</td>\n",
       "    </tr>\n",
       "    <tr>\n",
       "      <th>1</th>\n",
       "      <td>1.0</td>\n",
       "      <td>0.834759</td>\n",
       "      <td>1.0</td>\n",
       "      <td>0</td>\n",
       "      <td>1</td>\n",
       "    </tr>\n",
       "    <tr>\n",
       "      <th>2</th>\n",
       "      <td>1.0</td>\n",
       "      <td>0.879111</td>\n",
       "      <td>1.0</td>\n",
       "      <td>0</td>\n",
       "      <td>1</td>\n",
       "    </tr>\n",
       "    <tr>\n",
       "      <th>3</th>\n",
       "      <td>0.0</td>\n",
       "      <td>0.086549</td>\n",
       "      <td>0.0</td>\n",
       "      <td>0</td>\n",
       "      <td>0</td>\n",
       "    </tr>\n",
       "    <tr>\n",
       "      <th>4</th>\n",
       "      <td>0.0</td>\n",
       "      <td>0.125439</td>\n",
       "      <td>1.0</td>\n",
       "      <td>0</td>\n",
       "      <td>1</td>\n",
       "    </tr>\n",
       "    <tr>\n",
       "      <th>...</th>\n",
       "      <td>...</td>\n",
       "      <td>...</td>\n",
       "      <td>...</td>\n",
       "      <td>...</td>\n",
       "      <td>...</td>\n",
       "    </tr>\n",
       "    <tr>\n",
       "      <th>2033</th>\n",
       "      <td>1.0</td>\n",
       "      <td>0.550600</td>\n",
       "      <td>1.0</td>\n",
       "      <td>0</td>\n",
       "      <td>1</td>\n",
       "    </tr>\n",
       "    <tr>\n",
       "      <th>2034</th>\n",
       "      <td>1.0</td>\n",
       "      <td>0.900488</td>\n",
       "      <td>1.0</td>\n",
       "      <td>1</td>\n",
       "      <td>1</td>\n",
       "    </tr>\n",
       "    <tr>\n",
       "      <th>2035</th>\n",
       "      <td>0.0</td>\n",
       "      <td>0.086083</td>\n",
       "      <td>0.0</td>\n",
       "      <td>0</td>\n",
       "      <td>0</td>\n",
       "    </tr>\n",
       "    <tr>\n",
       "      <th>2036</th>\n",
       "      <td>0.0</td>\n",
       "      <td>0.088165</td>\n",
       "      <td>0.0</td>\n",
       "      <td>0</td>\n",
       "      <td>0</td>\n",
       "    </tr>\n",
       "    <tr>\n",
       "      <th>2037</th>\n",
       "      <td>1.0</td>\n",
       "      <td>0.824843</td>\n",
       "      <td>1.0</td>\n",
       "      <td>0</td>\n",
       "      <td>1</td>\n",
       "    </tr>\n",
       "  </tbody>\n",
       "</table>\n",
       "<p>2038 rows × 5 columns</p>\n",
       "</div>"
      ],
      "text/plain": [
       "      Prediction  Prediction_Probability  Ground_Truth  90_Probability  \\\n",
       "0            0.0                0.089405           0.0               0   \n",
       "1            1.0                0.834759           1.0               0   \n",
       "2            1.0                0.879111           1.0               0   \n",
       "3            0.0                0.086549           0.0               0   \n",
       "4            0.0                0.125439           1.0               0   \n",
       "...          ...                     ...           ...             ...   \n",
       "2033         1.0                0.550600           1.0               0   \n",
       "2034         1.0                0.900488           1.0               1   \n",
       "2035         0.0                0.086083           0.0               0   \n",
       "2036         0.0                0.088165           0.0               0   \n",
       "2037         1.0                0.824843           1.0               0   \n",
       "\n",
       "      10_Probability  \n",
       "0                  0  \n",
       "1                  1  \n",
       "2                  1  \n",
       "3                  0  \n",
       "4                  1  \n",
       "...              ...  \n",
       "2033               1  \n",
       "2034               1  \n",
       "2035               0  \n",
       "2036               0  \n",
       "2037               1  \n",
       "\n",
       "[2038 rows x 5 columns]"
      ]
     },
     "metadata": {},
     "output_type": "display_data"
    },
    {
     "data": {
      "text/plain": [
       "(107, 5)"
      ]
     },
     "metadata": {},
     "output_type": "display_data"
    }
   ],
   "source": [
    "display(performanceDataFrame)\n",
    "display(performanceDataFrame[performanceDataFrame['Prediction_Probability'] >= .90].shape)"
   ]
  },
  {
   "cell_type": "code",
   "execution_count": null,
   "metadata": {},
   "outputs": [],
   "source": [
    "crosstabpred = pd.crosstab(performanceDataFrame['Prediction'],\n",
    "                           performanceDataFrame['Ground_Truth'], margins= False)\n",
    "\n",
    "crosstab10 = pd.crosstab(performanceDataFrame['10_Probability'],\n",
    "                         performanceDataFrame['Ground_Truth'], margins= False)\n",
    "\n",
    "crosstab90 = pd.crosstab(performanceDataFrame['90_Probability'],\n",
    "                         performanceDataFrame['Ground_Truth'], margins= False)"
   ]
  },
  {
   "cell_type": "code",
   "execution_count": 203,
   "metadata": {},
   "outputs": [
    {
     "data": {
      "text/html": [
       "<div>\n",
       "<style scoped>\n",
       "    .dataframe tbody tr th:only-of-type {\n",
       "        vertical-align: middle;\n",
       "    }\n",
       "\n",
       "    .dataframe tbody tr th {\n",
       "        vertical-align: top;\n",
       "    }\n",
       "\n",
       "    .dataframe thead th {\n",
       "        text-align: right;\n",
       "    }\n",
       "</style>\n",
       "<table border=\"1\" class=\"dataframe\">\n",
       "  <thead>\n",
       "    <tr style=\"text-align: right;\">\n",
       "      <th>Ground_Truth</th>\n",
       "      <th>0.0</th>\n",
       "      <th>1.0</th>\n",
       "    </tr>\n",
       "    <tr>\n",
       "      <th>Prediction</th>\n",
       "      <th></th>\n",
       "      <th></th>\n",
       "    </tr>\n",
       "  </thead>\n",
       "  <tbody>\n",
       "    <tr>\n",
       "      <th>0.0</th>\n",
       "      <td>1426</td>\n",
       "      <td>205</td>\n",
       "    </tr>\n",
       "    <tr>\n",
       "      <th>1.0</th>\n",
       "      <td>30</td>\n",
       "      <td>377</td>\n",
       "    </tr>\n",
       "  </tbody>\n",
       "</table>\n",
       "</div>"
      ],
      "text/plain": [
       "Ground_Truth   0.0  1.0\n",
       "Prediction             \n",
       "0.0           1426  205\n",
       "1.0             30  377"
      ]
     },
     "metadata": {},
     "output_type": "display_data"
    },
    {
     "data": {
      "text/html": [
       "<div>\n",
       "<style scoped>\n",
       "    .dataframe tbody tr th:only-of-type {\n",
       "        vertical-align: middle;\n",
       "    }\n",
       "\n",
       "    .dataframe tbody tr th {\n",
       "        vertical-align: top;\n",
       "    }\n",
       "\n",
       "    .dataframe thead th {\n",
       "        text-align: right;\n",
       "    }\n",
       "</style>\n",
       "<table border=\"1\" class=\"dataframe\">\n",
       "  <thead>\n",
       "    <tr style=\"text-align: right;\">\n",
       "      <th>Ground_Truth</th>\n",
       "      <th>0.0</th>\n",
       "      <th>1.0</th>\n",
       "    </tr>\n",
       "    <tr>\n",
       "      <th>10_Probability</th>\n",
       "      <th></th>\n",
       "      <th></th>\n",
       "    </tr>\n",
       "  </thead>\n",
       "  <tbody>\n",
       "    <tr>\n",
       "      <th>0</th>\n",
       "      <td>1388</td>\n",
       "      <td>142</td>\n",
       "    </tr>\n",
       "    <tr>\n",
       "      <th>1</th>\n",
       "      <td>68</td>\n",
       "      <td>440</td>\n",
       "    </tr>\n",
       "  </tbody>\n",
       "</table>\n",
       "</div>"
      ],
      "text/plain": [
       "Ground_Truth     0.0  1.0\n",
       "10_Probability           \n",
       "0               1388  142\n",
       "1                 68  440"
      ]
     },
     "metadata": {},
     "output_type": "display_data"
    },
    {
     "data": {
      "text/html": [
       "<div>\n",
       "<style scoped>\n",
       "    .dataframe tbody tr th:only-of-type {\n",
       "        vertical-align: middle;\n",
       "    }\n",
       "\n",
       "    .dataframe tbody tr th {\n",
       "        vertical-align: top;\n",
       "    }\n",
       "\n",
       "    .dataframe thead th {\n",
       "        text-align: right;\n",
       "    }\n",
       "</style>\n",
       "<table border=\"1\" class=\"dataframe\">\n",
       "  <thead>\n",
       "    <tr style=\"text-align: right;\">\n",
       "      <th>Ground_Truth</th>\n",
       "      <th>0.0</th>\n",
       "      <th>1.0</th>\n",
       "    </tr>\n",
       "    <tr>\n",
       "      <th>90_Probability</th>\n",
       "      <th></th>\n",
       "      <th></th>\n",
       "    </tr>\n",
       "  </thead>\n",
       "  <tbody>\n",
       "    <tr>\n",
       "      <th>0</th>\n",
       "      <td>1453</td>\n",
       "      <td>478</td>\n",
       "    </tr>\n",
       "    <tr>\n",
       "      <th>1</th>\n",
       "      <td>3</td>\n",
       "      <td>104</td>\n",
       "    </tr>\n",
       "  </tbody>\n",
       "</table>\n",
       "</div>"
      ],
      "text/plain": [
       "Ground_Truth     0.0  1.0\n",
       "90_Probability           \n",
       "0               1453  478\n",
       "1                  3  104"
      ]
     },
     "metadata": {},
     "output_type": "display_data"
    }
   ],
   "source": [
    "display(crosstabpred, crosstab10, crosstab90)"
   ]
  },
  {
   "cell_type": "markdown",
   "metadata": {},
   "source": [
    "### **General prediction** has an improved false positive rate but has a increaseed false negative rate that \n",
    "* could be improved with tuning or feature engineering of the data \n",
    "* Next iteration will be trained and tested on data that has been engineered to have more positive cases \n",
    "    * the model seems to struggle with positive cases as it doesn't have a lot of positive cases to train on\n",
    "\n",
    "### **10% probability** has low false negatives but very high false positive rate\n",
    "* too sensitive not enough specificity \n",
    "### **90% probability** has next to no false positives but a sizeable amount of false negatives \n",
    "* need to increase sensitivity even at the cost of specificity "
   ]
  }
 ],
 "metadata": {
  "kernelspec": {
   "display_name": "base",
   "language": "python",
   "name": "python3"
  },
  "language_info": {
   "codemirror_mode": {
    "name": "ipython",
    "version": 3
   },
   "file_extension": ".py",
   "mimetype": "text/x-python",
   "name": "python",
   "nbconvert_exporter": "python",
   "pygments_lexer": "ipython3",
   "version": "3.12.7"
  }
 },
 "nbformat": 4,
 "nbformat_minor": 2
}
