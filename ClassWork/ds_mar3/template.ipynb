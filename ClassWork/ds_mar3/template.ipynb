{
 "cells": [
  {
   "cell_type": "code",
   "execution_count": null,
   "metadata": {},
   "outputs": [],
   "source": []
  },
  {
   "cell_type": "markdown",
   "metadata": {},
   "source": [
    "# 1. Import Your Libraries \n",
    "```\n",
    "import pandas as pd \n",
    "import numpy as np\n",
    "from sklearn.model_selection import train_test_split\n",
    "from sklearn.metrics import precision_score\n",
    "import tensorflow as tf\n",
    "```\n",
    "* No further Libraries should be necessary to run a project similar to this \n",
    "# 2. Import Your Data \n",
    "```\n",
    "data = np.load('disprot_esm_embed_10188.npz')\n",
    "# feature data\n",
    "x_data = data['X']\n",
    "# ground truth \n",
    "y_data = data['y']\n",
    "```\n",
    "* This data was saved as a numpy array and as such has a different procedure for proper importing \n",
    "# 3. Splitting the data into Training and Testing Data\n",
    "```\n",
    "x_train, x_test, y_train, y_test = train_test_split(\n",
    "                                   x_data, y_data, test_size = 0.20, \n",
    "                                   random_state = 42)\n",
    "```\n",
    "* This is a single line of code, formatting and readability prefernces is the reason for the unique formatting"
   ]
  },
  {
   "cell_type": "markdown",
   "metadata": {},
   "source": []
  },
  {
   "cell_type": "markdown",
   "metadata": {},
   "source": [
    "# 4. Setting up and Designing the Neural Network model\n",
    "```\n",
    "nameOfModel = tf.keras.sequential()\n",
    "```\n",
    "* This states the name of the model being designed \n",
    "* The model is a simple linear neural network model by which the layers are sequentially ordered \n",
    "    * This type of model contains no branching or skipped connections \n",
    "```\n",
    "nameOfModel.add(tf.keras.layers.Dense(units = n, activation = 'type'))\n",
    "```\n",
    "* Adds the initial and all following layers of the Neural Network \n",
    "    * **units = the number of nodes in a particalur layer of the nueral network** \n",
    "        * Determines the capacity of the layer and should be relative to the number of features in the data set \n",
    "    * **activation = type of equation used to determine the output of a neuron** \n",
    "        * Very important and should be chosen based on your desired output as each type has its own strengths and weaknesses\n",
    "```\n",
    "nameOfModel.compile(loss = 'type')\n",
    "```\n",
    "* Compiles the model to then be ran \n",
    "* The **\"loss type\"** you select is important:\n",
    "    * Changes what your final layer output should be \n",
    "    * How the model is being graded \n",
    "    * How you should Interpret the results for future alterations  "
   ]
  },
  {
   "cell_type": "markdown",
   "metadata": {},
   "source": []
  },
  {
   "cell_type": "markdown",
   "metadata": {},
   "source": [
    "# 5. Testing the Model \n"
   ]
  }
 ],
 "metadata": {
  "language_info": {
   "name": "python"
  }
 },
 "nbformat": 4,
 "nbformat_minor": 2
}
