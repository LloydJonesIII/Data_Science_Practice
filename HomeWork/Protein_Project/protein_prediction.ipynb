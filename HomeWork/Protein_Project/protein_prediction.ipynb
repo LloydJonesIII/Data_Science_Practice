{
 "cells": [
  {
   "cell_type": "code",
   "execution_count": 1,
   "metadata": {},
   "outputs": [],
   "source": [
    "import pandas as pd \n",
    "import numpy as np\n",
    "from sklearn.model_selection import train_test_split\n",
    "from sklearn.metrics import precision_score, roc_auc_score, roc_curve\n",
    "import tensorflow as tf\n",
    "import matplotlib as plt"
   ]
  },
  {
   "cell_type": "code",
   "execution_count": 2,
   "metadata": {},
   "outputs": [
    {
     "data": {
      "text/plain": [
       "(10188, 1280)"
      ]
     },
     "execution_count": 2,
     "metadata": {},
     "output_type": "execute_result"
    }
   ],
   "source": [
    "# Loading in the Data & splitting it into variables \n",
    "data = np.load('disprot_esm_embed_10188.npz')\n",
    "# feature data\n",
    "x_data = data['X']\n",
    "# ground truth \n",
    "y_data = data['y']\n",
    "x_data.shape"
   ]
  },
  {
   "cell_type": "code",
   "execution_count": 3,
   "metadata": {},
   "outputs": [],
   "source": [
    "# splitting the data into training and testing data \n",
    "x_train, x_test, y_train, y_test = train_test_split(\n",
    "                                   x_data, y_data, test_size = 0.20, \n",
    "                                   random_state = 42)"
   ]
  },
  {
   "cell_type": "markdown",
   "metadata": {},
   "source": [
    "# Failed initial Iteration \n",
    "```\n",
    "ogModel = tf.keras.Sequential() \n",
    "ogModel.add(tf.keras.layers.Dense(units=25, input_shape=(1280,), activation='relu'))\n",
    "```\n",
    "* failure point over compression of features \n",
    "    * makes the model inconsistent as depending on how it compresses 1280 features into 25 features it could have a model loss of 4.0 or 0.6\n",
    "```\n",
    "ogModel.add(tf.keras.layers.Dense(units=15, activation='sigmoid'))\n",
    "ogModel.add(tf.keras.layers.Dense(units=15, activation='relu'))\n",
    "ogModel.add(tf.keras.layers.Dense(units=1, activation='relu'))\n",
    "```\n",
    "* short comming of the model with the over compression at the first step having only 4 layers isn't enough to accurately capture the realtionships for prediction "
   ]
  },
  {
   "cell_type": "code",
   "execution_count": 82,
   "metadata": {},
   "outputs": [],
   "source": [
    "ogModel = tf.keras.Sequential() \n",
    "ogModel.add(tf.keras.layers.Dense(units=25, input_shape=(1280,), activation='relu'))\n",
    "ogModel.add(tf.keras.layers.Dense(units=15, activation='sigmoid'))\n",
    "ogModel.add(tf.keras.layers.Dense(units=15, activation='relu'))\n",
    "ogModel.add(tf.keras.layers.Dense(units=1, activation='relu'))\n"
   ]
  },
  {
   "cell_type": "code",
   "execution_count": 83,
   "metadata": {},
   "outputs": [
    {
     "name": "stdout",
     "output_type": "stream",
     "text": [
      "\u001b[1m255/255\u001b[0m \u001b[32m━━━━━━━━━━━━━━━━━━━━\u001b[0m\u001b[37m\u001b[0m \u001b[1m0s\u001b[0m 669us/step - loss: 0.5310\n"
     ]
    },
    {
     "data": {
      "text/plain": [
       "<keras.src.callbacks.history.History at 0x36343ba70>"
      ]
     },
     "execution_count": 83,
     "metadata": {},
     "output_type": "execute_result"
    }
   ],
   "source": [
    "ogModel.compile(loss='binary_crossentropy')\n",
    "ogModel.fit(x_train, y_train)"
   ]
  },
  {
   "cell_type": "code",
   "execution_count": 84,
   "metadata": {},
   "outputs": [
    {
     "name": "stdout",
     "output_type": "stream",
     "text": [
      "\u001b[1m64/64\u001b[0m \u001b[32m━━━━━━━━━━━━━━━━━━━━\u001b[0m\u001b[37m\u001b[0m \u001b[1m0s\u001b[0m 722us/step\n",
      "[[0.09012659]\n",
      " [0.4610371 ]\n",
      " [0.7006131 ]\n",
      " ...\n",
      " [0.        ]\n",
      " [0.39316362]\n",
      " [1.015807  ]]\n"
     ]
    }
   ],
   "source": [
    "predictionRaw = ogModel.predict(x_test) \n",
    "print(predictionRaw)\n",
    "predictionProbability = predictionRaw.flatten()\n",
    "prediction = predictionProbability.round()"
   ]
  },
  {
   "cell_type": "code",
   "execution_count": 85,
   "metadata": {},
   "outputs": [
    {
     "data": {
      "text/html": [
       "<div>\n",
       "<style scoped>\n",
       "    .dataframe tbody tr th:only-of-type {\n",
       "        vertical-align: middle;\n",
       "    }\n",
       "\n",
       "    .dataframe tbody tr th {\n",
       "        vertical-align: top;\n",
       "    }\n",
       "\n",
       "    .dataframe thead th {\n",
       "        text-align: right;\n",
       "    }\n",
       "</style>\n",
       "<table border=\"1\" class=\"dataframe\">\n",
       "  <thead>\n",
       "    <tr style=\"text-align: right;\">\n",
       "      <th></th>\n",
       "      <th>Prediction</th>\n",
       "      <th>Prediction_Probability</th>\n",
       "      <th>Ground_Truth</th>\n",
       "      <th>90_Probability</th>\n",
       "      <th>10_Probability</th>\n",
       "    </tr>\n",
       "  </thead>\n",
       "  <tbody>\n",
       "    <tr>\n",
       "      <th>0</th>\n",
       "      <td>0.0</td>\n",
       "      <td>0.090127</td>\n",
       "      <td>0.0</td>\n",
       "      <td>0</td>\n",
       "      <td>0</td>\n",
       "    </tr>\n",
       "    <tr>\n",
       "      <th>1</th>\n",
       "      <td>0.0</td>\n",
       "      <td>0.461037</td>\n",
       "      <td>1.0</td>\n",
       "      <td>0</td>\n",
       "      <td>1</td>\n",
       "    </tr>\n",
       "    <tr>\n",
       "      <th>2</th>\n",
       "      <td>1.0</td>\n",
       "      <td>0.700613</td>\n",
       "      <td>1.0</td>\n",
       "      <td>0</td>\n",
       "      <td>1</td>\n",
       "    </tr>\n",
       "    <tr>\n",
       "      <th>3</th>\n",
       "      <td>0.0</td>\n",
       "      <td>0.063081</td>\n",
       "      <td>0.0</td>\n",
       "      <td>0</td>\n",
       "      <td>0</td>\n",
       "    </tr>\n",
       "    <tr>\n",
       "      <th>4</th>\n",
       "      <td>1.0</td>\n",
       "      <td>0.603847</td>\n",
       "      <td>1.0</td>\n",
       "      <td>0</td>\n",
       "      <td>1</td>\n",
       "    </tr>\n",
       "    <tr>\n",
       "      <th>...</th>\n",
       "      <td>...</td>\n",
       "      <td>...</td>\n",
       "      <td>...</td>\n",
       "      <td>...</td>\n",
       "      <td>...</td>\n",
       "    </tr>\n",
       "    <tr>\n",
       "      <th>2033</th>\n",
       "      <td>1.0</td>\n",
       "      <td>0.514094</td>\n",
       "      <td>1.0</td>\n",
       "      <td>0</td>\n",
       "      <td>1</td>\n",
       "    </tr>\n",
       "    <tr>\n",
       "      <th>2034</th>\n",
       "      <td>1.0</td>\n",
       "      <td>0.947070</td>\n",
       "      <td>1.0</td>\n",
       "      <td>1</td>\n",
       "      <td>1</td>\n",
       "    </tr>\n",
       "    <tr>\n",
       "      <th>2035</th>\n",
       "      <td>0.0</td>\n",
       "      <td>0.000000</td>\n",
       "      <td>0.0</td>\n",
       "      <td>0</td>\n",
       "      <td>0</td>\n",
       "    </tr>\n",
       "    <tr>\n",
       "      <th>2036</th>\n",
       "      <td>0.0</td>\n",
       "      <td>0.393164</td>\n",
       "      <td>0.0</td>\n",
       "      <td>0</td>\n",
       "      <td>1</td>\n",
       "    </tr>\n",
       "    <tr>\n",
       "      <th>2037</th>\n",
       "      <td>1.0</td>\n",
       "      <td>1.015807</td>\n",
       "      <td>1.0</td>\n",
       "      <td>1</td>\n",
       "      <td>1</td>\n",
       "    </tr>\n",
       "  </tbody>\n",
       "</table>\n",
       "<p>2038 rows × 5 columns</p>\n",
       "</div>"
      ],
      "text/plain": [
       "      Prediction  Prediction_Probability  Ground_Truth  90_Probability  \\\n",
       "0            0.0                0.090127           0.0               0   \n",
       "1            0.0                0.461037           1.0               0   \n",
       "2            1.0                0.700613           1.0               0   \n",
       "3            0.0                0.063081           0.0               0   \n",
       "4            1.0                0.603847           1.0               0   \n",
       "...          ...                     ...           ...             ...   \n",
       "2033         1.0                0.514094           1.0               0   \n",
       "2034         1.0                0.947070           1.0               1   \n",
       "2035         0.0                0.000000           0.0               0   \n",
       "2036         0.0                0.393164           0.0               0   \n",
       "2037         1.0                1.015807           1.0               1   \n",
       "\n",
       "      10_Probability  \n",
       "0                  0  \n",
       "1                  1  \n",
       "2                  1  \n",
       "3                  0  \n",
       "4                  1  \n",
       "...              ...  \n",
       "2033               1  \n",
       "2034               1  \n",
       "2035               0  \n",
       "2036               1  \n",
       "2037               1  \n",
       "\n",
       "[2038 rows x 5 columns]"
      ]
     },
     "metadata": {},
     "output_type": "display_data"
    },
    {
     "data": {
      "text/plain": [
       "(207, 5)"
      ]
     },
     "metadata": {},
     "output_type": "display_data"
    }
   ],
   "source": [
    "test_y = pd.DataFrame(y_test)\n",
    "performanceDataFrame = pd.DataFrame(\n",
    "                       data = {\n",
    "                               'Prediction':prediction,\n",
    "                               'Prediction_Probability':predictionProbability,\n",
    "                               'Ground_Truth':test_y[0]\n",
    "                               })\n",
    "\n",
    "performanceDataFrame['90_Probability'] = (performanceDataFrame['Prediction_Probability'] >= 0.90).astype(int)\n",
    "performanceDataFrame['10_Probability'] = (performanceDataFrame['Prediction_Probability'] >= 0.10).astype(int)\n",
    "\n",
    "display(performanceDataFrame)\n",
    "display(performanceDataFrame[performanceDataFrame['Prediction_Probability'] >= .90].shape)"
   ]
  },
  {
   "cell_type": "code",
   "execution_count": 86,
   "metadata": {},
   "outputs": [
    {
     "data": {
      "text/html": [
       "<div>\n",
       "<style scoped>\n",
       "    .dataframe tbody tr th:only-of-type {\n",
       "        vertical-align: middle;\n",
       "    }\n",
       "\n",
       "    .dataframe tbody tr th {\n",
       "        vertical-align: top;\n",
       "    }\n",
       "\n",
       "    .dataframe thead th {\n",
       "        text-align: right;\n",
       "    }\n",
       "</style>\n",
       "<table border=\"1\" class=\"dataframe\">\n",
       "  <thead>\n",
       "    <tr style=\"text-align: right;\">\n",
       "      <th>Ground_Truth</th>\n",
       "      <th>0.0</th>\n",
       "      <th>1.0</th>\n",
       "    </tr>\n",
       "    <tr>\n",
       "      <th>Prediction</th>\n",
       "      <th></th>\n",
       "      <th></th>\n",
       "    </tr>\n",
       "  </thead>\n",
       "  <tbody>\n",
       "    <tr>\n",
       "      <th>0.0</th>\n",
       "      <td>1385</td>\n",
       "      <td>175</td>\n",
       "    </tr>\n",
       "    <tr>\n",
       "      <th>1.0</th>\n",
       "      <td>71</td>\n",
       "      <td>407</td>\n",
       "    </tr>\n",
       "  </tbody>\n",
       "</table>\n",
       "</div>"
      ],
      "text/plain": [
       "Ground_Truth   0.0  1.0\n",
       "Prediction             \n",
       "0.0           1385  175\n",
       "1.0             71  407"
      ]
     },
     "metadata": {},
     "output_type": "display_data"
    },
    {
     "data": {
      "text/html": [
       "<div>\n",
       "<style scoped>\n",
       "    .dataframe tbody tr th:only-of-type {\n",
       "        vertical-align: middle;\n",
       "    }\n",
       "\n",
       "    .dataframe tbody tr th {\n",
       "        vertical-align: top;\n",
       "    }\n",
       "\n",
       "    .dataframe thead th {\n",
       "        text-align: right;\n",
       "    }\n",
       "</style>\n",
       "<table border=\"1\" class=\"dataframe\">\n",
       "  <thead>\n",
       "    <tr style=\"text-align: right;\">\n",
       "      <th>Ground_Truth</th>\n",
       "      <th>0.0</th>\n",
       "      <th>1.0</th>\n",
       "    </tr>\n",
       "    <tr>\n",
       "      <th>10_Probability</th>\n",
       "      <th></th>\n",
       "      <th></th>\n",
       "    </tr>\n",
       "  </thead>\n",
       "  <tbody>\n",
       "    <tr>\n",
       "      <th>0</th>\n",
       "      <td>727</td>\n",
       "      <td>15</td>\n",
       "    </tr>\n",
       "    <tr>\n",
       "      <th>1</th>\n",
       "      <td>729</td>\n",
       "      <td>567</td>\n",
       "    </tr>\n",
       "  </tbody>\n",
       "</table>\n",
       "</div>"
      ],
      "text/plain": [
       "Ground_Truth    0.0  1.0\n",
       "10_Probability          \n",
       "0               727   15\n",
       "1               729  567"
      ]
     },
     "metadata": {},
     "output_type": "display_data"
    },
    {
     "data": {
      "text/html": [
       "<div>\n",
       "<style scoped>\n",
       "    .dataframe tbody tr th:only-of-type {\n",
       "        vertical-align: middle;\n",
       "    }\n",
       "\n",
       "    .dataframe tbody tr th {\n",
       "        vertical-align: top;\n",
       "    }\n",
       "\n",
       "    .dataframe thead th {\n",
       "        text-align: right;\n",
       "    }\n",
       "</style>\n",
       "<table border=\"1\" class=\"dataframe\">\n",
       "  <thead>\n",
       "    <tr style=\"text-align: right;\">\n",
       "      <th>Ground_Truth</th>\n",
       "      <th>0.0</th>\n",
       "      <th>1.0</th>\n",
       "    </tr>\n",
       "    <tr>\n",
       "      <th>90_Probability</th>\n",
       "      <th></th>\n",
       "      <th></th>\n",
       "    </tr>\n",
       "  </thead>\n",
       "  <tbody>\n",
       "    <tr>\n",
       "      <th>0</th>\n",
       "      <td>1454</td>\n",
       "      <td>377</td>\n",
       "    </tr>\n",
       "    <tr>\n",
       "      <th>1</th>\n",
       "      <td>2</td>\n",
       "      <td>205</td>\n",
       "    </tr>\n",
       "  </tbody>\n",
       "</table>\n",
       "</div>"
      ],
      "text/plain": [
       "Ground_Truth     0.0  1.0\n",
       "90_Probability           \n",
       "0               1454  377\n",
       "1                  2  205"
      ]
     },
     "metadata": {},
     "output_type": "display_data"
    }
   ],
   "source": [
    "crosstabpred = pd.crosstab(performanceDataFrame['Prediction'],\n",
    "                           performanceDataFrame['Ground_Truth'], margins= False)\n",
    "\n",
    "crosstab10 = pd.crosstab(performanceDataFrame['10_Probability'],\n",
    "                         performanceDataFrame['Ground_Truth'], margins= False)\n",
    "\n",
    "crosstab90 = pd.crosstab(performanceDataFrame['90_Probability'],\n",
    "                         performanceDataFrame['Ground_Truth'], margins= False)\n",
    "\n",
    "display(crosstabpred, crosstab10, crosstab90)"
   ]
  },
  {
   "cell_type": "code",
   "execution_count": 87,
   "metadata": {},
   "outputs": [
    {
     "name": "stdout",
     "output_type": "stream",
     "text": [
      "False Positive rate of 0.0488 \n",
      "True Positive rate 0.6993\n",
      "\n",
      "Precision Score of 0.8515 \n",
      "Area Under Curve 0.8253\n"
     ]
    }
   ],
   "source": [
    "# AUC & Percision Calculations \n",
    "falsePos, truePos, thresh = roc_curve(y_test, prediction)\n",
    "areaUnderCurve = roc_auc_score(y_test, prediction)\n",
    "precision = precision_score(y_test, prediction)\n",
    "print(f'False Positive rate of {falsePos[1]:.4f} \\nTrue Positive rate {truePos[1]:.4f}')\n",
    "print(f'\\nPrecision Score of {precision:.4f} \\nArea Under Curve {areaUnderCurve:.4f}')"
   ]
  },
  {
   "cell_type": "markdown",
   "metadata": {},
   "source": [
    "# Intermediate Model"
   ]
  },
  {
   "cell_type": "markdown",
   "metadata": {},
   "source": [
    "```\n",
    "### initial number of features: 1280\n",
    "myModel = tf.keras.Sequential()\n",
    "### 3/4 compression \n",
    "myModel.add(tf.keras.layers.Dense(units = 640, activation = 'relu'))\n",
    "myModel.add(tf.keras.layers.Dense(units = 480, activation = 'relu'))\n",
    "myModel.add(tf.keras.layers.Dense(units = 360, activation = 'relu'))\n",
    "myModel.add(tf.keras.layers.Dense(units = 270, activation = 'sigmoid'))\n",
    "### 2/3 compression\n",
    "myModel.add(tf.keras.layers.Dense(units = 180, activation = 'relu'))\n",
    "### 1/3 compression\n",
    "myModel.add(tf.keras.layers.Dense(units = 60, activation = 'relu'))\n",
    "myModel.add(tf.keras.layers.Dense(units = 20, activation = 'sigmoid'))\n",
    "### 1/4 compression\n",
    "myModel.add(tf.keras.layers.Dense(units = 5, activation = 'relu'))\n",
    "### Output layer \n",
    "myModel.add(tf.keras.layers.Dense(units = 1, activation = 'sigmoid'))\n",
    "```\n"
   ]
  },
  {
   "cell_type": "code",
   "execution_count": 98,
   "metadata": {},
   "outputs": [],
   "source": [
    "### initial number of features: 1280\n",
    "intModel = tf.keras.Sequential()\n",
    "### 3/4 compression \n",
    "intModel.add(tf.keras.layers.Dense(units = 640, activation = 'relu'))\n",
    "intModel.add(tf.keras.layers.Dense(units = 480, activation = 'relu'))\n",
    "intModel.add(tf.keras.layers.Dense(units = 360, activation = 'relu'))\n",
    "intModel.add(tf.keras.layers.Dense(units = 270, activation = 'sigmoid'))\n",
    "### 2/3 compression\n",
    "intModel.add(tf.keras.layers.Dense(units = 180, activation = 'relu'))\n",
    "### 1/3 compression\n",
    "intModel.add(tf.keras.layers.Dense(units = 60, activation = 'relu'))\n",
    "intModel.add(tf.keras.layers.Dense(units = 20, activation = 'sigmoid'))\n",
    "### 1/4 compression\n",
    "intModel.add(tf.keras.layers.Dense(units = 5, activation = 'relu'))\n",
    "### Output layer \n",
    "intModel.add(tf.keras.layers.Dense(units = 1, activation = 'sigmoid'))"
   ]
  },
  {
   "cell_type": "code",
   "execution_count": 99,
   "metadata": {},
   "outputs": [
    {
     "name": "stdout",
     "output_type": "stream",
     "text": [
      "\u001b[1m255/255\u001b[0m \u001b[32m━━━━━━━━━━━━━━━━━━━━\u001b[0m\u001b[37m\u001b[0m \u001b[1m2s\u001b[0m 5ms/step - loss: 0.5527\n"
     ]
    },
    {
     "data": {
      "text/plain": [
       "<keras.src.callbacks.history.History at 0x360ae9250>"
      ]
     },
     "execution_count": 99,
     "metadata": {},
     "output_type": "execute_result"
    }
   ],
   "source": [
    "intModel.compile(loss='binary_crossentropy')\n",
    "intModel.fit(x_train, y_train)"
   ]
  },
  {
   "cell_type": "code",
   "execution_count": 100,
   "metadata": {},
   "outputs": [
    {
     "name": "stdout",
     "output_type": "stream",
     "text": [
      "\u001b[1m64/64\u001b[0m \u001b[32m━━━━━━━━━━━━━━━━━━━━\u001b[0m\u001b[37m\u001b[0m \u001b[1m0s\u001b[0m 2ms/step\n",
      "[[0.0988265 ]\n",
      " [0.5378324 ]\n",
      " [0.6573593 ]\n",
      " ...\n",
      " [0.09811343]\n",
      " [0.55882215]\n",
      " [0.6610931 ]]\n"
     ]
    }
   ],
   "source": [
    "predictionRaw = intModel.predict(x_test) \n",
    "print(predictionRaw)\n",
    "predictionProbability = predictionRaw.flatten()\n",
    "prediction = predictionProbability.round()"
   ]
  },
  {
   "cell_type": "code",
   "execution_count": 101,
   "metadata": {},
   "outputs": [
    {
     "data": {
      "text/html": [
       "<div>\n",
       "<style scoped>\n",
       "    .dataframe tbody tr th:only-of-type {\n",
       "        vertical-align: middle;\n",
       "    }\n",
       "\n",
       "    .dataframe tbody tr th {\n",
       "        vertical-align: top;\n",
       "    }\n",
       "\n",
       "    .dataframe thead th {\n",
       "        text-align: right;\n",
       "    }\n",
       "</style>\n",
       "<table border=\"1\" class=\"dataframe\">\n",
       "  <thead>\n",
       "    <tr style=\"text-align: right;\">\n",
       "      <th></th>\n",
       "      <th>Prediction</th>\n",
       "      <th>Prediction_Probability</th>\n",
       "      <th>Ground_Truth</th>\n",
       "      <th>90_Probability</th>\n",
       "      <th>10_Probability</th>\n",
       "    </tr>\n",
       "  </thead>\n",
       "  <tbody>\n",
       "    <tr>\n",
       "      <th>0</th>\n",
       "      <td>0.0</td>\n",
       "      <td>0.098826</td>\n",
       "      <td>0.0</td>\n",
       "      <td>0</td>\n",
       "      <td>0</td>\n",
       "    </tr>\n",
       "    <tr>\n",
       "      <th>1</th>\n",
       "      <td>1.0</td>\n",
       "      <td>0.537832</td>\n",
       "      <td>1.0</td>\n",
       "      <td>0</td>\n",
       "      <td>1</td>\n",
       "    </tr>\n",
       "    <tr>\n",
       "      <th>2</th>\n",
       "      <td>1.0</td>\n",
       "      <td>0.657359</td>\n",
       "      <td>1.0</td>\n",
       "      <td>0</td>\n",
       "      <td>1</td>\n",
       "    </tr>\n",
       "    <tr>\n",
       "      <th>3</th>\n",
       "      <td>0.0</td>\n",
       "      <td>0.101014</td>\n",
       "      <td>0.0</td>\n",
       "      <td>0</td>\n",
       "      <td>1</td>\n",
       "    </tr>\n",
       "    <tr>\n",
       "      <th>4</th>\n",
       "      <td>1.0</td>\n",
       "      <td>0.621434</td>\n",
       "      <td>1.0</td>\n",
       "      <td>0</td>\n",
       "      <td>1</td>\n",
       "    </tr>\n",
       "    <tr>\n",
       "      <th>...</th>\n",
       "      <td>...</td>\n",
       "      <td>...</td>\n",
       "      <td>...</td>\n",
       "      <td>...</td>\n",
       "      <td>...</td>\n",
       "    </tr>\n",
       "    <tr>\n",
       "      <th>2033</th>\n",
       "      <td>1.0</td>\n",
       "      <td>0.658178</td>\n",
       "      <td>1.0</td>\n",
       "      <td>0</td>\n",
       "      <td>1</td>\n",
       "    </tr>\n",
       "    <tr>\n",
       "      <th>2034</th>\n",
       "      <td>1.0</td>\n",
       "      <td>0.660614</td>\n",
       "      <td>1.0</td>\n",
       "      <td>0</td>\n",
       "      <td>1</td>\n",
       "    </tr>\n",
       "    <tr>\n",
       "      <th>2035</th>\n",
       "      <td>0.0</td>\n",
       "      <td>0.098113</td>\n",
       "      <td>0.0</td>\n",
       "      <td>0</td>\n",
       "      <td>0</td>\n",
       "    </tr>\n",
       "    <tr>\n",
       "      <th>2036</th>\n",
       "      <td>1.0</td>\n",
       "      <td>0.558822</td>\n",
       "      <td>0.0</td>\n",
       "      <td>0</td>\n",
       "      <td>1</td>\n",
       "    </tr>\n",
       "    <tr>\n",
       "      <th>2037</th>\n",
       "      <td>1.0</td>\n",
       "      <td>0.661093</td>\n",
       "      <td>1.0</td>\n",
       "      <td>0</td>\n",
       "      <td>1</td>\n",
       "    </tr>\n",
       "  </tbody>\n",
       "</table>\n",
       "<p>2038 rows × 5 columns</p>\n",
       "</div>"
      ],
      "text/plain": [
       "      Prediction  Prediction_Probability  Ground_Truth  90_Probability  \\\n",
       "0            0.0                0.098826           0.0               0   \n",
       "1            1.0                0.537832           1.0               0   \n",
       "2            1.0                0.657359           1.0               0   \n",
       "3            0.0                0.101014           0.0               0   \n",
       "4            1.0                0.621434           1.0               0   \n",
       "...          ...                     ...           ...             ...   \n",
       "2033         1.0                0.658178           1.0               0   \n",
       "2034         1.0                0.660614           1.0               0   \n",
       "2035         0.0                0.098113           0.0               0   \n",
       "2036         1.0                0.558822           0.0               0   \n",
       "2037         1.0                0.661093           1.0               0   \n",
       "\n",
       "      10_Probability  \n",
       "0                  0  \n",
       "1                  1  \n",
       "2                  1  \n",
       "3                  1  \n",
       "4                  1  \n",
       "...              ...  \n",
       "2033               1  \n",
       "2034               1  \n",
       "2035               0  \n",
       "2036               1  \n",
       "2037               1  \n",
       "\n",
       "[2038 rows x 5 columns]"
      ]
     },
     "metadata": {},
     "output_type": "display_data"
    },
    {
     "data": {
      "text/plain": [
       "(0, 5)"
      ]
     },
     "metadata": {},
     "output_type": "display_data"
    }
   ],
   "source": [
    "test_y = pd.DataFrame(y_test)\n",
    "performanceDataFrame = pd.DataFrame(\n",
    "                       data = {\n",
    "                               'Prediction':prediction,\n",
    "                               'Prediction_Probability':predictionProbability,\n",
    "                               'Ground_Truth':test_y[0]\n",
    "                               })\n",
    "\n",
    "performanceDataFrame['90_Probability'] = (performanceDataFrame['Prediction_Probability'] >= 0.90).astype(int)\n",
    "performanceDataFrame['10_Probability'] = (performanceDataFrame['Prediction_Probability'] >= 0.10).astype(int)\n",
    "\n",
    "display(performanceDataFrame)\n",
    "display(performanceDataFrame[performanceDataFrame['Prediction_Probability'] >= .90].shape)"
   ]
  },
  {
   "cell_type": "code",
   "execution_count": 102,
   "metadata": {},
   "outputs": [
    {
     "data": {
      "text/html": [
       "<div>\n",
       "<style scoped>\n",
       "    .dataframe tbody tr th:only-of-type {\n",
       "        vertical-align: middle;\n",
       "    }\n",
       "\n",
       "    .dataframe tbody tr th {\n",
       "        vertical-align: top;\n",
       "    }\n",
       "\n",
       "    .dataframe thead th {\n",
       "        text-align: right;\n",
       "    }\n",
       "</style>\n",
       "<table border=\"1\" class=\"dataframe\">\n",
       "  <thead>\n",
       "    <tr style=\"text-align: right;\">\n",
       "      <th>Ground_Truth</th>\n",
       "      <th>0.0</th>\n",
       "      <th>1.0</th>\n",
       "    </tr>\n",
       "    <tr>\n",
       "      <th>Prediction</th>\n",
       "      <th></th>\n",
       "      <th></th>\n",
       "    </tr>\n",
       "  </thead>\n",
       "  <tbody>\n",
       "    <tr>\n",
       "      <th>0.0</th>\n",
       "      <td>1330</td>\n",
       "      <td>148</td>\n",
       "    </tr>\n",
       "    <tr>\n",
       "      <th>1.0</th>\n",
       "      <td>126</td>\n",
       "      <td>434</td>\n",
       "    </tr>\n",
       "  </tbody>\n",
       "</table>\n",
       "</div>"
      ],
      "text/plain": [
       "Ground_Truth   0.0  1.0\n",
       "Prediction             \n",
       "0.0           1330  148\n",
       "1.0            126  434"
      ]
     },
     "metadata": {},
     "output_type": "display_data"
    },
    {
     "data": {
      "text/html": [
       "<div>\n",
       "<style scoped>\n",
       "    .dataframe tbody tr th:only-of-type {\n",
       "        vertical-align: middle;\n",
       "    }\n",
       "\n",
       "    .dataframe tbody tr th {\n",
       "        vertical-align: top;\n",
       "    }\n",
       "\n",
       "    .dataframe thead th {\n",
       "        text-align: right;\n",
       "    }\n",
       "</style>\n",
       "<table border=\"1\" class=\"dataframe\">\n",
       "  <thead>\n",
       "    <tr style=\"text-align: right;\">\n",
       "      <th>Ground_Truth</th>\n",
       "      <th>0.0</th>\n",
       "      <th>1.0</th>\n",
       "    </tr>\n",
       "    <tr>\n",
       "      <th>10_Probability</th>\n",
       "      <th></th>\n",
       "      <th></th>\n",
       "    </tr>\n",
       "  </thead>\n",
       "  <tbody>\n",
       "    <tr>\n",
       "      <th>0</th>\n",
       "      <td>596</td>\n",
       "      <td>42</td>\n",
       "    </tr>\n",
       "    <tr>\n",
       "      <th>1</th>\n",
       "      <td>860</td>\n",
       "      <td>540</td>\n",
       "    </tr>\n",
       "  </tbody>\n",
       "</table>\n",
       "</div>"
      ],
      "text/plain": [
       "Ground_Truth    0.0  1.0\n",
       "10_Probability          \n",
       "0               596   42\n",
       "1               860  540"
      ]
     },
     "metadata": {},
     "output_type": "display_data"
    },
    {
     "data": {
      "text/html": [
       "<div>\n",
       "<style scoped>\n",
       "    .dataframe tbody tr th:only-of-type {\n",
       "        vertical-align: middle;\n",
       "    }\n",
       "\n",
       "    .dataframe tbody tr th {\n",
       "        vertical-align: top;\n",
       "    }\n",
       "\n",
       "    .dataframe thead th {\n",
       "        text-align: right;\n",
       "    }\n",
       "</style>\n",
       "<table border=\"1\" class=\"dataframe\">\n",
       "  <thead>\n",
       "    <tr style=\"text-align: right;\">\n",
       "      <th>Ground_Truth</th>\n",
       "      <th>0.0</th>\n",
       "      <th>1.0</th>\n",
       "    </tr>\n",
       "    <tr>\n",
       "      <th>90_Probability</th>\n",
       "      <th></th>\n",
       "      <th></th>\n",
       "    </tr>\n",
       "  </thead>\n",
       "  <tbody>\n",
       "    <tr>\n",
       "      <th>0</th>\n",
       "      <td>1456</td>\n",
       "      <td>582</td>\n",
       "    </tr>\n",
       "  </tbody>\n",
       "</table>\n",
       "</div>"
      ],
      "text/plain": [
       "Ground_Truth     0.0  1.0\n",
       "90_Probability           \n",
       "0               1456  582"
      ]
     },
     "metadata": {},
     "output_type": "display_data"
    }
   ],
   "source": [
    "crosstabpred = pd.crosstab(performanceDataFrame['Prediction'],\n",
    "                           performanceDataFrame['Ground_Truth'], margins= False)\n",
    "\n",
    "crosstab10 = pd.crosstab(performanceDataFrame['10_Probability'],\n",
    "                         performanceDataFrame['Ground_Truth'], margins= False)\n",
    "\n",
    "crosstab90 = pd.crosstab(performanceDataFrame['90_Probability'],\n",
    "                         performanceDataFrame['Ground_Truth'], margins= False)\n",
    "\n",
    "display(crosstabpred, crosstab10, crosstab90)"
   ]
  },
  {
   "cell_type": "code",
   "execution_count": 103,
   "metadata": {},
   "outputs": [
    {
     "name": "stdout",
     "output_type": "stream",
     "text": [
      "False Positive rate of 0.0865 \n",
      "True Positive rate 0.7457\n",
      "\n",
      "Precision Score of 0.7750 \n",
      "Area Under Curve 0.8296\n"
     ]
    }
   ],
   "source": [
    "# AUC & Percision Calculations \n",
    "falsePos, truePos, thresh = roc_curve(y_test, prediction)\n",
    "areaUnderCurve = roc_auc_score(y_test, prediction)\n",
    "precision = precision_score(y_test, prediction)\n",
    "print(f'False Positive rate of {falsePos[1]:.4f} \\nTrue Positive rate {truePos[1]:.4f}')\n",
    "print(f'\\nPrecision Score of {precision:.4f} \\nArea Under Curve {areaUnderCurve:.4f}')"
   ]
  },
  {
   "cell_type": "markdown",
   "metadata": {},
   "source": [
    "# Final Model"
   ]
  },
  {
   "cell_type": "code",
   "execution_count": 111,
   "metadata": {},
   "outputs": [],
   "source": [
    "# initial number of features: 1280\n",
    "myModel = tf.keras.Sequential()\n",
    "# 1/2 compression \n",
    "myModel.add(tf.keras.layers.Dense(units = 640, activation = 'relu'))\n",
    "# 200 units per compression\n",
    "myModel.add(tf.keras.layers.Dense(units = 440, activation = 'relu'))\n",
    "myModel.add(tf.keras.layers.Dense(units = 240, activation = 'sigmoid'))\n",
    "myModel.add(tf.keras.layers.Dense(units = 40, activation = 'relu'))\n",
    "# 1/2 compression rounded\n",
    "myModel.add(tf.keras.layers.Dense(units = 20, activation = 'relu'))\n",
    "myModel.add(tf.keras.layers.Dense(units = 10, activation = 'relu'))\n",
    "# Output layer \n",
    "myModel.add(tf.keras.layers.Dense(units = 1, activation = 'sigmoid'))"
   ]
  },
  {
   "cell_type": "code",
   "execution_count": 112,
   "metadata": {},
   "outputs": [
    {
     "name": "stdout",
     "output_type": "stream",
     "text": [
      "\u001b[1m255/255\u001b[0m \u001b[32m━━━━━━━━━━━━━━━━━━━━\u001b[0m\u001b[37m\u001b[0m \u001b[1m2s\u001b[0m 4ms/step - loss: 0.5970\n"
     ]
    },
    {
     "data": {
      "text/plain": [
       "<keras.src.callbacks.history.History at 0x36872a420>"
      ]
     },
     "execution_count": 112,
     "metadata": {},
     "output_type": "execute_result"
    }
   ],
   "source": [
    "myModel.compile(loss='binary_crossentropy')\n",
    "myModel.fit(x_train, y_train, class_weight={0 : 1.0, 1 : 1.55})"
   ]
  },
  {
   "cell_type": "code",
   "execution_count": 113,
   "metadata": {},
   "outputs": [
    {
     "name": "stdout",
     "output_type": "stream",
     "text": [
      "\u001b[1m64/64\u001b[0m \u001b[32m━━━━━━━━━━━━━━━━━━━━\u001b[0m\u001b[37m\u001b[0m \u001b[1m0s\u001b[0m 1ms/step  \n",
      "[[0.0123358 ]\n",
      " [0.80099803]\n",
      " [0.8918076 ]\n",
      " ...\n",
      " [0.00536963]\n",
      " [0.29570377]\n",
      " [0.9603249 ]]\n"
     ]
    }
   ],
   "source": [
    "predictionRaw = myModel.predict(x_test) \n",
    "print(predictionRaw)\n",
    "predictionProbability = predictionRaw.flatten()\n",
    "prediction = predictionProbability.round()"
   ]
  },
  {
   "cell_type": "code",
   "execution_count": 114,
   "metadata": {},
   "outputs": [
    {
     "data": {
      "text/html": [
       "<div>\n",
       "<style scoped>\n",
       "    .dataframe tbody tr th:only-of-type {\n",
       "        vertical-align: middle;\n",
       "    }\n",
       "\n",
       "    .dataframe tbody tr th {\n",
       "        vertical-align: top;\n",
       "    }\n",
       "\n",
       "    .dataframe thead th {\n",
       "        text-align: right;\n",
       "    }\n",
       "</style>\n",
       "<table border=\"1\" class=\"dataframe\">\n",
       "  <thead>\n",
       "    <tr style=\"text-align: right;\">\n",
       "      <th></th>\n",
       "      <th>Prediction</th>\n",
       "      <th>Prediction_Probability</th>\n",
       "      <th>Ground_Truth</th>\n",
       "      <th>90_Probability</th>\n",
       "      <th>10_Probability</th>\n",
       "    </tr>\n",
       "  </thead>\n",
       "  <tbody>\n",
       "    <tr>\n",
       "      <th>0</th>\n",
       "      <td>0.0</td>\n",
       "      <td>0.012336</td>\n",
       "      <td>0.0</td>\n",
       "      <td>0</td>\n",
       "      <td>0</td>\n",
       "    </tr>\n",
       "    <tr>\n",
       "      <th>1</th>\n",
       "      <td>1.0</td>\n",
       "      <td>0.800998</td>\n",
       "      <td>1.0</td>\n",
       "      <td>0</td>\n",
       "      <td>1</td>\n",
       "    </tr>\n",
       "    <tr>\n",
       "      <th>2</th>\n",
       "      <td>1.0</td>\n",
       "      <td>0.891808</td>\n",
       "      <td>1.0</td>\n",
       "      <td>0</td>\n",
       "      <td>1</td>\n",
       "    </tr>\n",
       "    <tr>\n",
       "      <th>3</th>\n",
       "      <td>0.0</td>\n",
       "      <td>0.033883</td>\n",
       "      <td>0.0</td>\n",
       "      <td>0</td>\n",
       "      <td>0</td>\n",
       "    </tr>\n",
       "    <tr>\n",
       "      <th>4</th>\n",
       "      <td>1.0</td>\n",
       "      <td>0.601748</td>\n",
       "      <td>1.0</td>\n",
       "      <td>0</td>\n",
       "      <td>1</td>\n",
       "    </tr>\n",
       "    <tr>\n",
       "      <th>...</th>\n",
       "      <td>...</td>\n",
       "      <td>...</td>\n",
       "      <td>...</td>\n",
       "      <td>...</td>\n",
       "      <td>...</td>\n",
       "    </tr>\n",
       "    <tr>\n",
       "      <th>2033</th>\n",
       "      <td>1.0</td>\n",
       "      <td>0.635620</td>\n",
       "      <td>1.0</td>\n",
       "      <td>0</td>\n",
       "      <td>1</td>\n",
       "    </tr>\n",
       "    <tr>\n",
       "      <th>2034</th>\n",
       "      <td>1.0</td>\n",
       "      <td>0.975192</td>\n",
       "      <td>1.0</td>\n",
       "      <td>1</td>\n",
       "      <td>1</td>\n",
       "    </tr>\n",
       "    <tr>\n",
       "      <th>2035</th>\n",
       "      <td>0.0</td>\n",
       "      <td>0.005370</td>\n",
       "      <td>0.0</td>\n",
       "      <td>0</td>\n",
       "      <td>0</td>\n",
       "    </tr>\n",
       "    <tr>\n",
       "      <th>2036</th>\n",
       "      <td>0.0</td>\n",
       "      <td>0.295704</td>\n",
       "      <td>0.0</td>\n",
       "      <td>0</td>\n",
       "      <td>1</td>\n",
       "    </tr>\n",
       "    <tr>\n",
       "      <th>2037</th>\n",
       "      <td>1.0</td>\n",
       "      <td>0.960325</td>\n",
       "      <td>1.0</td>\n",
       "      <td>1</td>\n",
       "      <td>1</td>\n",
       "    </tr>\n",
       "  </tbody>\n",
       "</table>\n",
       "<p>2038 rows × 5 columns</p>\n",
       "</div>"
      ],
      "text/plain": [
       "      Prediction  Prediction_Probability  Ground_Truth  90_Probability  \\\n",
       "0            0.0                0.012336           0.0               0   \n",
       "1            1.0                0.800998           1.0               0   \n",
       "2            1.0                0.891808           1.0               0   \n",
       "3            0.0                0.033883           0.0               0   \n",
       "4            1.0                0.601748           1.0               0   \n",
       "...          ...                     ...           ...             ...   \n",
       "2033         1.0                0.635620           1.0               0   \n",
       "2034         1.0                0.975192           1.0               1   \n",
       "2035         0.0                0.005370           0.0               0   \n",
       "2036         0.0                0.295704           0.0               0   \n",
       "2037         1.0                0.960325           1.0               1   \n",
       "\n",
       "      10_Probability  \n",
       "0                  0  \n",
       "1                  1  \n",
       "2                  1  \n",
       "3                  0  \n",
       "4                  1  \n",
       "...              ...  \n",
       "2033               1  \n",
       "2034               1  \n",
       "2035               0  \n",
       "2036               1  \n",
       "2037               1  \n",
       "\n",
       "[2038 rows x 5 columns]"
      ]
     },
     "metadata": {},
     "output_type": "display_data"
    },
    {
     "data": {
      "text/plain": [
       "(373, 5)"
      ]
     },
     "metadata": {},
     "output_type": "display_data"
    }
   ],
   "source": [
    "test_y = pd.DataFrame(y_test)\n",
    "performanceDataFrame = pd.DataFrame(\n",
    "                       data = {\n",
    "                               'Prediction':prediction,\n",
    "                               'Prediction_Probability':predictionProbability,\n",
    "                               'Ground_Truth':test_y[0]\n",
    "                               })\n",
    "\n",
    "performanceDataFrame['90_Probability'] = (performanceDataFrame['Prediction_Probability'] >= 0.90).astype(int)\n",
    "performanceDataFrame['10_Probability'] = (performanceDataFrame['Prediction_Probability'] >= 0.10).astype(int)\n",
    "\n",
    "display(performanceDataFrame)\n",
    "display(performanceDataFrame[performanceDataFrame['Prediction_Probability'] >= .90].shape)"
   ]
  },
  {
   "cell_type": "code",
   "execution_count": 115,
   "metadata": {},
   "outputs": [
    {
     "data": {
      "text/html": [
       "<div>\n",
       "<style scoped>\n",
       "    .dataframe tbody tr th:only-of-type {\n",
       "        vertical-align: middle;\n",
       "    }\n",
       "\n",
       "    .dataframe tbody tr th {\n",
       "        vertical-align: top;\n",
       "    }\n",
       "\n",
       "    .dataframe thead th {\n",
       "        text-align: right;\n",
       "    }\n",
       "</style>\n",
       "<table border=\"1\" class=\"dataframe\">\n",
       "  <thead>\n",
       "    <tr style=\"text-align: right;\">\n",
       "      <th>Ground_Truth</th>\n",
       "      <th>0.0</th>\n",
       "      <th>1.0</th>\n",
       "    </tr>\n",
       "    <tr>\n",
       "      <th>Prediction</th>\n",
       "      <th></th>\n",
       "      <th></th>\n",
       "    </tr>\n",
       "  </thead>\n",
       "  <tbody>\n",
       "    <tr>\n",
       "      <th>0.0</th>\n",
       "      <td>1387</td>\n",
       "      <td>100</td>\n",
       "    </tr>\n",
       "    <tr>\n",
       "      <th>1.0</th>\n",
       "      <td>69</td>\n",
       "      <td>482</td>\n",
       "    </tr>\n",
       "  </tbody>\n",
       "</table>\n",
       "</div>"
      ],
      "text/plain": [
       "Ground_Truth   0.0  1.0\n",
       "Prediction             \n",
       "0.0           1387  100\n",
       "1.0             69  482"
      ]
     },
     "metadata": {},
     "output_type": "display_data"
    },
    {
     "data": {
      "text/html": [
       "<div>\n",
       "<style scoped>\n",
       "    .dataframe tbody tr th:only-of-type {\n",
       "        vertical-align: middle;\n",
       "    }\n",
       "\n",
       "    .dataframe tbody tr th {\n",
       "        vertical-align: top;\n",
       "    }\n",
       "\n",
       "    .dataframe thead th {\n",
       "        text-align: right;\n",
       "    }\n",
       "</style>\n",
       "<table border=\"1\" class=\"dataframe\">\n",
       "  <thead>\n",
       "    <tr style=\"text-align: right;\">\n",
       "      <th>Ground_Truth</th>\n",
       "      <th>0.0</th>\n",
       "      <th>1.0</th>\n",
       "    </tr>\n",
       "    <tr>\n",
       "      <th>10_Probability</th>\n",
       "      <th></th>\n",
       "      <th></th>\n",
       "    </tr>\n",
       "  </thead>\n",
       "  <tbody>\n",
       "    <tr>\n",
       "      <th>0</th>\n",
       "      <td>1039</td>\n",
       "      <td>14</td>\n",
       "    </tr>\n",
       "    <tr>\n",
       "      <th>1</th>\n",
       "      <td>417</td>\n",
       "      <td>568</td>\n",
       "    </tr>\n",
       "  </tbody>\n",
       "</table>\n",
       "</div>"
      ],
      "text/plain": [
       "Ground_Truth     0.0  1.0\n",
       "10_Probability           \n",
       "0               1039   14\n",
       "1                417  568"
      ]
     },
     "metadata": {},
     "output_type": "display_data"
    },
    {
     "data": {
      "text/html": [
       "<div>\n",
       "<style scoped>\n",
       "    .dataframe tbody tr th:only-of-type {\n",
       "        vertical-align: middle;\n",
       "    }\n",
       "\n",
       "    .dataframe tbody tr th {\n",
       "        vertical-align: top;\n",
       "    }\n",
       "\n",
       "    .dataframe thead th {\n",
       "        text-align: right;\n",
       "    }\n",
       "</style>\n",
       "<table border=\"1\" class=\"dataframe\">\n",
       "  <thead>\n",
       "    <tr style=\"text-align: right;\">\n",
       "      <th>Ground_Truth</th>\n",
       "      <th>0.0</th>\n",
       "      <th>1.0</th>\n",
       "    </tr>\n",
       "    <tr>\n",
       "      <th>90_Probability</th>\n",
       "      <th></th>\n",
       "      <th></th>\n",
       "    </tr>\n",
       "  </thead>\n",
       "  <tbody>\n",
       "    <tr>\n",
       "      <th>0</th>\n",
       "      <td>1440</td>\n",
       "      <td>225</td>\n",
       "    </tr>\n",
       "    <tr>\n",
       "      <th>1</th>\n",
       "      <td>16</td>\n",
       "      <td>357</td>\n",
       "    </tr>\n",
       "  </tbody>\n",
       "</table>\n",
       "</div>"
      ],
      "text/plain": [
       "Ground_Truth     0.0  1.0\n",
       "90_Probability           \n",
       "0               1440  225\n",
       "1                 16  357"
      ]
     },
     "metadata": {},
     "output_type": "display_data"
    }
   ],
   "source": [
    "crosstabpred = pd.crosstab(performanceDataFrame['Prediction'],\n",
    "                           performanceDataFrame['Ground_Truth'], margins= False)\n",
    "\n",
    "crosstab10 = pd.crosstab(performanceDataFrame['10_Probability'],\n",
    "                         performanceDataFrame['Ground_Truth'], margins= False)\n",
    "\n",
    "crosstab90 = pd.crosstab(performanceDataFrame['90_Probability'],\n",
    "                         performanceDataFrame['Ground_Truth'], margins= False)\n",
    "\n",
    "display(crosstabpred, crosstab10, crosstab90)"
   ]
  },
  {
   "cell_type": "code",
   "execution_count": 116,
   "metadata": {},
   "outputs": [
    {
     "name": "stdout",
     "output_type": "stream",
     "text": [
      "False Positive rate of 0.0474 \n",
      "True Positive rate 0.8282\n",
      "\n",
      "Precision Score of 0.8748 \n",
      "Area Under Curve 0.8904\n"
     ]
    }
   ],
   "source": [
    "# ROC Curve & AUC\n",
    "falsePos, truePos, thresh = roc_curve(y_test, prediction)\n",
    "areaUnderCurve = roc_auc_score(y_test, prediction)\n",
    "precision = precision_score(y_test, prediction)\n",
    "print(f'False Positive rate of {falsePos[1]:.4f} \\nTrue Positive rate {truePos[1]:.4f}')\n",
    "print(f'\\nPrecision Score of {precision:.4f} \\nArea Under Curve {areaUnderCurve:.4f}')\n"
   ]
  }
 ],
 "metadata": {
  "kernelspec": {
   "display_name": "base",
   "language": "python",
   "name": "python3"
  },
  "language_info": {
   "codemirror_mode": {
    "name": "ipython",
    "version": 3
   },
   "file_extension": ".py",
   "mimetype": "text/x-python",
   "name": "python",
   "nbconvert_exporter": "python",
   "pygments_lexer": "ipython3",
   "version": "3.12.2"
  }
 },
 "nbformat": 4,
 "nbformat_minor": 2
}
