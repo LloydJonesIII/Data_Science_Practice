{
 "cells": [
  {
   "cell_type": "markdown",
   "metadata": {},
   "source": [
    "# Lloyd W Jones III \n",
    "## Week 12 Homework part 1"
   ]
  },
  {
   "cell_type": "markdown",
   "metadata": {},
   "source": [
    "- **ESearch**: Used to search for articles and returns a list of article IDs (PMIDs)\n",
    "- **EFetch**: Used to retrieve detailed information about specific articles using their PMIDs"
   ]
  },
  {
   "cell_type": "code",
   "execution_count": 6,
   "metadata": {},
   "outputs": [],
   "source": [
    "# Libraries \n",
    "import requests\n",
    "import json\n",
    "import xml.etree.ElementTree as ET\n",
    "import pandas as pd "
   ]
  },
  {
   "cell_type": "markdown",
   "metadata": {},
   "source": [
    "##### url = https://eutils.ncbi.nlm.nih.gov/entrez/eutils/esearch.fcgi?db=pubmed&term=machine+learning+in+healthcare+AND+(2020/01/01[Date+-+Publication]+:+2025/04/07[Date+-+Publication])&retmax=1000&retmode=json&sort=relevance\n",
    "* db = Specifies the database being searched \n",
    "* term = Search Query \n",
    "* retmax = maximum number of returns \n",
    "* retmod = format of the returns \n",
    "* sort = sorting method "
   ]
  },
  {
   "cell_type": "code",
   "execution_count": 34,
   "metadata": {},
   "outputs": [],
   "source": [
    "def ncbi_search():\n",
    "    # Standard Inputs\n",
    "    sort = 'relevance'\n",
    "    retmode = 'json'\n",
    "    baseURL = 'https://eutils.ncbi.nlm.nih.gov/entrez/eutils/esearch.fcgi'\n",
    "    database = 'pubmed'\n",
    "    minDate = '2020'\n",
    "    maxDate = '2025'\n",
    "    # User Inputs \n",
    "    \n",
    "    ## Search term error handling loop\n",
    "    loop = True\n",
    "    while loop == True:\n",
    "        term = input('What would you like to search on NCBI PubMed? ').replace(' ','+')\n",
    "        checkterm = input(f'Your input has been formated for the call,\\n{term} \\ndoes your search look correct? [y/n] ')\n",
    "        if checkterm == 'y':\n",
    "            print('search input confirmed')\n",
    "            loop = False\n",
    "        else:\n",
    "            print('answer to correct search was no or unclear please make sure to check your inputs!')\n",
    "    \n",
    "    ## Max Returns error handling loop\n",
    "    loop = True\n",
    "    while loop == True:\n",
    "        try:\n",
    "            retMax = int(input('What is the max number of returns you want? please input an integer. '))\n",
    "            \n",
    "            print(f'Your input has been formated for the call,\\n{retMax}')\n",
    "            checkMax = input(f'does your search look correct? [y/n] ')\n",
    "        \n",
    "            if checkMax == 'y':\n",
    "                print('max returns input confirmed')\n",
    "                loop = False\n",
    "            else:\n",
    "                print('answer to correct search was no or unclear please make sure to check your inputs!')\n",
    "        except ValueError:\n",
    "            print(f'your input was not an integer, please try again')\n",
    "    \n",
    "    userparams = {\n",
    "                  'db': database,\n",
    "                  'term': term,\n",
    "                  'retmax': retMax,\n",
    "                  'retmode': retmode,\n",
    "                  'mindate': minDate,\n",
    "                  'maxdate': maxDate,\n",
    "                  'sort': sort\n",
    "                 }\n",
    "    ## API Call \n",
    "    \n",
    "    apiResponse = requests.get(baseURL, params= userparams)\n",
    "    dataAPI = apiResponse.json()\n",
    "    return dataAPI"
   ]
  },
  {
   "cell_type": "code",
   "execution_count": 35,
   "metadata": {},
   "outputs": [],
   "source": [
    "def process_json(jsonVar, fileName):\n",
    "    with open(f'{fileName}.json', 'w') as newfile:\n",
    "        json.dump(jsonVar, newfile, indent= 2)\n",
    "    print('JSON File Has been generated, file name is, \\nQuestion1a.json')\n"
   ]
  },
  {
   "cell_type": "code",
   "execution_count": 36,
   "metadata": {},
   "outputs": [],
   "source": [
    "def question1A():\n",
    "    dataAPI = ncbi_search()\n",
    "    process_json(dataAPI,'Question1a')"
   ]
  },
  {
   "cell_type": "code",
   "execution_count": 37,
   "metadata": {},
   "outputs": [
    {
     "name": "stdout",
     "output_type": "stream",
     "text": [
      "search input confirmed\n",
      "Your input has been formated for the call,\n",
      "20\n",
      "max returns input confirmed\n",
      "JSON File Has been generated, file name is, \n",
      "Question1a.json\n"
     ]
    }
   ],
   "source": [
    "question1A()"
   ]
  },
  {
   "cell_type": "code",
   "execution_count": 11,
   "metadata": {},
   "outputs": [],
   "source": [
    "def abstract_search():\n",
    "    # Standard Inputs\n",
    "    retmode = 'xml'\n",
    "    baseURL = 'https://eutils.ncbi.nlm.nih.gov/entrez/eutils/efetch.fcgi'\n",
    "    database = 'pubmed'\n",
    "    rettype = 'abstract'\n",
    "    # User Inputs \n",
    "    \n",
    "    ## Search term error handling loop\n",
    "    loop = True\n",
    "    while loop == True:\n",
    "        idInput = input('What would you like to search on NCBI PubMed? ')\n",
    "        checkID = input(f'Your input has been formated for the call,\\n{idInput} \\ndoes your search look correct? [y/n] ')\n",
    "        if checkID == 'y':\n",
    "            print('search input confirmed')\n",
    "            loop = False\n",
    "        else:\n",
    "            print('answer to correct search was no or unclear please make sure to check your inputs!')\n",
    "    \n",
    "    userparams = {\n",
    "        'db' : database,\n",
    "        'id' : idInput,\n",
    "        'rettype' : rettype,\n",
    "        'retmode' : retmode\n",
    "        }\n",
    "\n",
    "    loop = True\n",
    "    while loop == True:\n",
    "        try:\n",
    "            apiResponse = requests.get(baseURL, params= userparams)\n",
    "            apiResponse.raise_for_status()\n",
    "            xmlAPI = apiResponse.content\n",
    "            print('Search Completed Successfully')\n",
    "            loop = False\n",
    "\n",
    "        except requests.exceptions.RequestException as e:\n",
    "            print(f\"An error occurred: {e}\")\n",
    "            print(f'try new id, original input was {idInput}')\n",
    "            loopcheck2 = True\n",
    "            while loopcheck2 == True:\n",
    "                idInput = input('What would you like to search on NCBI PubMed? ')\n",
    "                checkID = input(f'Your input has been formated for the call,\\n{idInput} \\ndoes your search look correct? [y/n] ')\n",
    "                if checkID == 'y':\n",
    "                    print('search input confirmed')\n",
    "                    loopcheck2 = False\n",
    "                else:\n",
    "                    print('answer to correct search was no or unclear please make sure to check your inputs!')\n",
    "            userparams = {\n",
    "                'db' : database,\n",
    "                'id' : idInput,\n",
    "                'rettype' : rettype,\n",
    "                'retmode' : retmode\n",
    "                }\n",
    "    \n",
    "    return xmlAPI "
   ]
  },
  {
   "cell_type": "code",
   "execution_count": 30,
   "metadata": {},
   "outputs": [],
   "source": [
    "def xml_parse(xmlAPI):\n",
    "    root = ET.fromstring(xmlAPI)\n",
    "    print(root)\n",
    "    # Parsing for wanted Information\n",
    "    pmID = [elem.text for elem in root.findall('.//PMID')]\n",
    "    title = [elem.text for elem in root.findall('.//ArticleTitle')]\n",
    "    abstract = [elem.text for elem in root.findall('.//AbstractText')]\n",
    "    date = [elem.text for elem in root.findall('.//PubDate')]\n",
    "    journal = [elem.text for elem in root.findall('.//Journal/Title')]\n",
    "    # Dataframe generation \n",
    "    parsedict = {\n",
    "        'title' : title,\n",
    "        'abstract' : abstract,\n",
    "        'date' : date,\n",
    "        'journal' : journal\n",
    "    }\n",
    "\n",
    "    return parsedict"
   ]
  },
  {
   "cell_type": "code",
   "execution_count": 38,
   "metadata": {},
   "outputs": [],
   "source": [
    "def question1BC():\n",
    "    xmlAPI = abstract_search()\n",
    "    output = xml_parse(xmlAPI)\n",
    "    return output\n"
   ]
  },
  {
   "cell_type": "code",
   "execution_count": 39,
   "metadata": {},
   "outputs": [
    {
     "name": "stdout",
     "output_type": "stream",
     "text": [
      "search input confirmed\n",
      "Search Completed Successfully\n",
      "<Element 'PubmedArticleSet' at 0x1507a91c0>\n"
     ]
    },
    {
     "data": {
      "text/plain": [
       "{'title': ['Cancer and cure: A critical analysis.'],\n",
       " 'abstract': ['Cancer is one of the most dreaded diseases of the 20th century and spreading further with continuance and increasing incidence in the 21st century. The situation is so alarming that every fourth person is having a lifetime risk of cancer. India registers more than 11 lakh new cases of cancer every year, whereas, this figure is above 14 million worldwide. Is cancer curable? The short answer to this question is \"Yes.\" In fact, all cancers are curable if they are caught early enough. Cancer cells continue to grow unless one of four things occur: (1) The cancerous mass is removed surgically; (2) using chemotherapy or another type of cancer-specific medication, such as hormonal therapy; (3) using radiation therapy; or (4) the cancer cells shrink and disappear on their own.'],\n",
       " 'date': [None],\n",
       " 'journal': ['Indian journal of cancer']}"
      ]
     },
     "execution_count": 39,
     "metadata": {},
     "output_type": "execute_result"
    }
   ],
   "source": [
    "question1BC()"
   ]
  },
  {
   "cell_type": "markdown",
   "metadata": {},
   "source": [
    "# Reflection\n",
    "* This homework project made me do a lot of research and call back to skills I haven't worked on since the CompSci Class last year\n",
    "* I implemented some very basic error handling for my user inputs as well as for my exception handling \n",
    "* For some parts of this project I used Copilot to help me understand what was causing my errors when using my api calls\n",
    "    * biggest issue was using the wrong base url for question 1B \n",
    "* all in all this homework project was informative, It would have been more ideal if we had a bit more time to complete it."
   ]
  },
  {
   "cell_type": "markdown",
   "metadata": {},
   "source": []
  }
 ],
 "metadata": {
  "kernelspec": {
   "display_name": "base",
   "language": "python",
   "name": "python3"
  },
  "language_info": {
   "codemirror_mode": {
    "name": "ipython",
    "version": 3
   },
   "file_extension": ".py",
   "mimetype": "text/x-python",
   "name": "python",
   "nbconvert_exporter": "python",
   "pygments_lexer": "ipython3",
   "version": "3.12.2"
  }
 },
 "nbformat": 4,
 "nbformat_minor": 2
}
